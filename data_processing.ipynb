{
 "cells": [
  {
   "cell_type": "code",
   "execution_count": 1,
   "id": "1fe33d7d",
   "metadata": {
    "tags": []
   },
   "outputs": [],
   "source": [
    "import pandas as pd\n",
    "import numpy as np"
   ]
  },
  {
   "cell_type": "code",
   "execution_count": 2,
   "id": "37fef8f2",
   "metadata": {
    "tags": []
   },
   "outputs": [],
   "source": [
    "df = pd.read_csv(\"googleplaystore.csv\")"
   ]
  },
  {
   "cell_type": "code",
   "execution_count": 3,
   "id": "780fb297",
   "metadata": {
    "tags": []
   },
   "outputs": [
    {
     "data": {
      "text/html": [
       "<div>\n",
       "<style scoped>\n",
       "    .dataframe tbody tr th:only-of-type {\n",
       "        vertical-align: middle;\n",
       "    }\n",
       "\n",
       "    .dataframe tbody tr th {\n",
       "        vertical-align: top;\n",
       "    }\n",
       "\n",
       "    .dataframe thead th {\n",
       "        text-align: right;\n",
       "    }\n",
       "</style>\n",
       "<table border=\"1\" class=\"dataframe\">\n",
       "  <thead>\n",
       "    <tr style=\"text-align: right;\">\n",
       "      <th></th>\n",
       "      <th>App</th>\n",
       "      <th>Category</th>\n",
       "      <th>Rating</th>\n",
       "      <th>Reviews</th>\n",
       "      <th>Size</th>\n",
       "      <th>Installs</th>\n",
       "      <th>Type</th>\n",
       "      <th>Price</th>\n",
       "      <th>Content Rating</th>\n",
       "      <th>Genres</th>\n",
       "      <th>Last Updated</th>\n",
       "      <th>Current Ver</th>\n",
       "      <th>Android Ver</th>\n",
       "    </tr>\n",
       "  </thead>\n",
       "  <tbody>\n",
       "    <tr>\n",
       "      <th>0</th>\n",
       "      <td>Life Made WI-Fi Touchscreen Photo Frame</td>\n",
       "      <td>1.9</td>\n",
       "      <td>19.0</td>\n",
       "      <td>3.0M</td>\n",
       "      <td>1,000+</td>\n",
       "      <td>Free</td>\n",
       "      <td>0</td>\n",
       "      <td>Everyone</td>\n",
       "      <td>NaN</td>\n",
       "      <td>11-Feb-18</td>\n",
       "      <td>1.0.19</td>\n",
       "      <td>4.0 and up</td>\n",
       "      <td>NaN</td>\n",
       "    </tr>\n",
       "  </tbody>\n",
       "</table>\n",
       "</div>"
      ],
      "text/plain": [
       "                                       App Category  Rating Reviews    Size  \\\n",
       "0  Life Made WI-Fi Touchscreen Photo Frame      1.9    19.0    3.0M  1,000+   \n",
       "\n",
       "  Installs Type     Price Content Rating     Genres Last Updated Current Ver  \\\n",
       "0     Free    0  Everyone            NaN  11-Feb-18       1.0.19  4.0 and up   \n",
       "\n",
       "  Android Ver  \n",
       "0         NaN  "
      ]
     },
     "execution_count": 3,
     "metadata": {},
     "output_type": "execute_result"
    }
   ],
   "source": [
    "df[df['Category'].str.contains('\\d',na=False)]"
   ]
  },
  {
   "cell_type": "code",
   "execution_count": 4,
   "id": "2616fc07",
   "metadata": {
    "tags": []
   },
   "outputs": [
    {
     "name": "stderr",
     "output_type": "stream",
     "text": [
      "C:\\Users\\karth\\AppData\\Local\\Temp\\ipykernel_29636\\327966356.py:12: FutureWarning: Setting an item of incompatible dtype is deprecated and will raise in a future error of pandas. Value '1.9' has dtype incompatible with float64, please explicitly cast to a compatible dtype first.\n",
      "  df.iloc[row_index_to_insert, insert_position + 1:] = df.iloc[row_index_to_insert, insert_position:-1].values\n"
     ]
    },
    {
     "data": {
      "text/html": [
       "<div>\n",
       "<style scoped>\n",
       "    .dataframe tbody tr th:only-of-type {\n",
       "        vertical-align: middle;\n",
       "    }\n",
       "\n",
       "    .dataframe tbody tr th {\n",
       "        vertical-align: top;\n",
       "    }\n",
       "\n",
       "    .dataframe thead th {\n",
       "        text-align: right;\n",
       "    }\n",
       "</style>\n",
       "<table border=\"1\" class=\"dataframe\">\n",
       "  <thead>\n",
       "    <tr style=\"text-align: right;\">\n",
       "      <th></th>\n",
       "      <th>App</th>\n",
       "      <th>Category</th>\n",
       "      <th>Rating</th>\n",
       "      <th>Reviews</th>\n",
       "      <th>Size</th>\n",
       "      <th>Installs</th>\n",
       "      <th>Type</th>\n",
       "      <th>Price</th>\n",
       "      <th>Content Rating</th>\n",
       "      <th>Genres</th>\n",
       "      <th>Last Updated</th>\n",
       "      <th>Current Ver</th>\n",
       "      <th>Android Ver</th>\n",
       "    </tr>\n",
       "  </thead>\n",
       "  <tbody>\n",
       "    <tr>\n",
       "      <th>0</th>\n",
       "      <td>Life Made WI-Fi Touchscreen Photo Frame</td>\n",
       "      <td>1.9</td>\n",
       "      <td>1.9</td>\n",
       "      <td>19.0</td>\n",
       "      <td>3.0M</td>\n",
       "      <td>1,000+</td>\n",
       "      <td>Free</td>\n",
       "      <td>0</td>\n",
       "      <td>Everyone</td>\n",
       "      <td>NaN</td>\n",
       "      <td>11-Feb-18</td>\n",
       "      <td>1.0.19</td>\n",
       "      <td>4.0 and up</td>\n",
       "    </tr>\n",
       "    <tr>\n",
       "      <th>1</th>\n",
       "      <td>Coloring book moana</td>\n",
       "      <td>ART_AND_DESIGN</td>\n",
       "      <td>3.9</td>\n",
       "      <td>967</td>\n",
       "      <td>14M</td>\n",
       "      <td>500,000+</td>\n",
       "      <td>Free</td>\n",
       "      <td>0</td>\n",
       "      <td>Everyone</td>\n",
       "      <td>Art &amp; Design;Pretend Play</td>\n",
       "      <td>15-Jan-18</td>\n",
       "      <td>2.0.0</td>\n",
       "      <td>4.0.3 and up</td>\n",
       "    </tr>\n",
       "    <tr>\n",
       "      <th>2</th>\n",
       "      <td>Mcqueen Coloring pages</td>\n",
       "      <td>ART_AND_DESIGN</td>\n",
       "      <td>NaN</td>\n",
       "      <td>61</td>\n",
       "      <td>7.0M</td>\n",
       "      <td>100,000+</td>\n",
       "      <td>Free</td>\n",
       "      <td>0</td>\n",
       "      <td>Everyone</td>\n",
       "      <td>Art &amp; Design;Action &amp; Adventure</td>\n",
       "      <td>07-Mar-18</td>\n",
       "      <td>1.0.0</td>\n",
       "      <td>4.1 and up</td>\n",
       "    </tr>\n",
       "    <tr>\n",
       "      <th>3</th>\n",
       "      <td>Textgram - write on photos</td>\n",
       "      <td>ART_AND_DESIGN</td>\n",
       "      <td>4.4</td>\n",
       "      <td>295221</td>\n",
       "      <td>Varies with device</td>\n",
       "      <td>10,000,000+</td>\n",
       "      <td>Free</td>\n",
       "      <td>0</td>\n",
       "      <td>Everyone</td>\n",
       "      <td>Art &amp; Design</td>\n",
       "      <td>30-Jul-18</td>\n",
       "      <td>Varies with device</td>\n",
       "      <td>Varies with device</td>\n",
       "    </tr>\n",
       "    <tr>\n",
       "      <th>4</th>\n",
       "      <td>Textgram - write on photos</td>\n",
       "      <td>ART_AND_DESIGN</td>\n",
       "      <td>4.4</td>\n",
       "      <td>295237</td>\n",
       "      <td>Varies with device</td>\n",
       "      <td>10,000,000+</td>\n",
       "      <td>Free</td>\n",
       "      <td>0</td>\n",
       "      <td>Everyone</td>\n",
       "      <td>Art &amp; Design</td>\n",
       "      <td>30-Jul-18</td>\n",
       "      <td>Varies with device</td>\n",
       "      <td>Varies with device</td>\n",
       "    </tr>\n",
       "  </tbody>\n",
       "</table>\n",
       "</div>"
      ],
      "text/plain": [
       "                                       App        Category Rating Reviews  \\\n",
       "0  Life Made WI-Fi Touchscreen Photo Frame             1.9    1.9    19.0   \n",
       "1                      Coloring book moana  ART_AND_DESIGN    3.9     967   \n",
       "2                   Mcqueen Coloring pages  ART_AND_DESIGN    NaN      61   \n",
       "3               Textgram - write on photos  ART_AND_DESIGN    4.4  295221   \n",
       "4               Textgram - write on photos  ART_AND_DESIGN    4.4  295237   \n",
       "\n",
       "                 Size     Installs  Type Price Content Rating  \\\n",
       "0                3.0M       1,000+  Free     0       Everyone   \n",
       "1                 14M     500,000+  Free     0       Everyone   \n",
       "2                7.0M     100,000+  Free     0       Everyone   \n",
       "3  Varies with device  10,000,000+  Free     0       Everyone   \n",
       "4  Varies with device  10,000,000+  Free     0       Everyone   \n",
       "\n",
       "                            Genres Last Updated         Current Ver  \\\n",
       "0                              NaN    11-Feb-18              1.0.19   \n",
       "1        Art & Design;Pretend Play    15-Jan-18               2.0.0   \n",
       "2  Art & Design;Action & Adventure    07-Mar-18               1.0.0   \n",
       "3                     Art & Design    30-Jul-18  Varies with device   \n",
       "4                     Art & Design    30-Jul-18  Varies with device   \n",
       "\n",
       "          Android Ver  \n",
       "0          4.0 and up  \n",
       "1        4.0.3 and up  \n",
       "2          4.1 and up  \n",
       "3  Varies with device  \n",
       "4  Varies with device  "
      ]
     },
     "execution_count": 4,
     "metadata": {},
     "output_type": "execute_result"
    }
   ],
   "source": [
    "# Specify the row index and position to insert\n",
    "row_index_to_insert = 0  # Change this to your desired row index\n",
    "insert_position = 1  # Change this to the position where you want to insert the new value\n",
    "\n",
    "# Specify the new value to insert\n",
    "new_value = 'dummy text'  # Change this to your desired new value\n",
    "\n",
    "# Use insert to add a new column with the specified value at the specified position\n",
    "# df.insert(insert_position, 'New_Column', new_value)\n",
    "\n",
    "# Use shift to shift the values from the specified position to the right\n",
    "df.iloc[row_index_to_insert, insert_position + 1:] = df.iloc[row_index_to_insert, insert_position:-1].values\n",
    "\n",
    "# Display the updated DataFrame\n",
    "df.head()"
   ]
  },
  {
   "cell_type": "code",
   "execution_count": 5,
   "id": "838996bf",
   "metadata": {
    "tags": []
   },
   "outputs": [
    {
     "data": {
      "text/plain": [
       "Index(['App', 'Category', 'Rating', 'Reviews', 'Size', 'Installs', 'Type',\n",
       "       'Price', 'Content Rating', 'Genres', 'Last Updated', 'Current Ver',\n",
       "       'Android Ver'],\n",
       "      dtype='object')"
      ]
     },
     "execution_count": 5,
     "metadata": {},
     "output_type": "execute_result"
    }
   ],
   "source": [
    "df.columns"
   ]
  },
  {
   "cell_type": "code",
   "execution_count": 6,
   "id": "aa207ba1",
   "metadata": {
    "tags": []
   },
   "outputs": [],
   "source": [
    "df_new = df[['App', 'Reviews', 'Size', 'Installs', 'Type',\n",
    "       'Price', 'Last Updated', 'Current Ver'\n",
    "       ]]"
   ]
  },
  {
   "cell_type": "code",
   "execution_count": 7,
   "id": "552d4f09",
   "metadata": {
    "tags": []
   },
   "outputs": [],
   "source": [
    "def null_check(df):\n",
    "    for i in df.columns:\n",
    "        check_nan = df[i].isnull().sum()\n",
    "        print(i, check_nan)"
   ]
  },
  {
   "cell_type": "code",
   "execution_count": 8,
   "id": "54855eaa",
   "metadata": {
    "scrolled": true,
    "tags": []
   },
   "outputs": [
    {
     "name": "stdout",
     "output_type": "stream",
     "text": [
      "App 0\n",
      "Reviews 0\n",
      "Size 0\n",
      "Installs 0\n",
      "Type 1\n",
      "Price 0\n",
      "Last Updated 0\n",
      "Current Ver 8\n"
     ]
    }
   ],
   "source": [
    "null_check(df_new)"
   ]
  },
  {
   "cell_type": "code",
   "execution_count": 9,
   "id": "340c7691",
   "metadata": {
    "tags": []
   },
   "outputs": [
    {
     "name": "stdout",
     "output_type": "stream",
     "text": [
      "App 0\n",
      "Category 0\n",
      "Rating 1474\n",
      "Reviews 0\n",
      "Size 0\n",
      "Installs 0\n",
      "Type 1\n",
      "Price 0\n",
      "Content Rating 0\n",
      "Genres 1\n",
      "Last Updated 0\n",
      "Current Ver 8\n",
      "Android Ver 2\n"
     ]
    },
    {
     "name": "stderr",
     "output_type": "stream",
     "text": [
      "C:\\Users\\karth\\AppData\\Local\\Temp\\ipykernel_29636\\3761225340.py:4: UserWarning: Boolean Series key will be reindexed to match DataFrame index.\n",
      "  df_new = df_new[~df['Current Ver'].isnull()]\n"
     ]
    }
   ],
   "source": [
    "df_new = df_new[~df_new['Type'].isnull()]\n",
    "df_new.reset_index(drop=True, inplace=True)\n",
    "\n",
    "df_new = df_new[~df['Current Ver'].isnull()]\n",
    "df_new.reset_index(drop=True, inplace=True)\n",
    "null_check(df)"
   ]
  },
  {
   "cell_type": "code",
   "execution_count": 10,
   "id": "0c7547fd",
   "metadata": {
    "tags": []
   },
   "outputs": [],
   "source": [
    "df_new['Last Updated'] = pd.to_datetime(df_new['Last Updated'], format='%d-%b-%y')\n",
    "df_new['Reviews']=df['Reviews'].astype(int)"
   ]
  },
  {
   "cell_type": "code",
   "execution_count": 11,
   "id": "e0faf8c0",
   "metadata": {
    "scrolled": true,
    "tags": []
   },
   "outputs": [
    {
     "data": {
      "text/html": [
       "<div>\n",
       "<style scoped>\n",
       "    .dataframe tbody tr th:only-of-type {\n",
       "        vertical-align: middle;\n",
       "    }\n",
       "\n",
       "    .dataframe tbody tr th {\n",
       "        vertical-align: top;\n",
       "    }\n",
       "\n",
       "    .dataframe thead th {\n",
       "        text-align: right;\n",
       "    }\n",
       "</style>\n",
       "<table border=\"1\" class=\"dataframe\">\n",
       "  <thead>\n",
       "    <tr style=\"text-align: right;\">\n",
       "      <th></th>\n",
       "      <th>App</th>\n",
       "      <th>Reviews</th>\n",
       "      <th>Size</th>\n",
       "      <th>Installs</th>\n",
       "      <th>Type</th>\n",
       "      <th>Price</th>\n",
       "      <th>Last Updated</th>\n",
       "      <th>Current Ver</th>\n",
       "    </tr>\n",
       "  </thead>\n",
       "  <tbody>\n",
       "    <tr>\n",
       "      <th>0</th>\n",
       "      <td>Life Made WI-Fi Touchscreen Photo Frame</td>\n",
       "      <td>19</td>\n",
       "      <td>3.0</td>\n",
       "      <td>1,000</td>\n",
       "      <td>Free</td>\n",
       "      <td>0.0</td>\n",
       "      <td>2018-02-11</td>\n",
       "      <td>1.0.19</td>\n",
       "    </tr>\n",
       "    <tr>\n",
       "      <th>1</th>\n",
       "      <td>Coloring book moana</td>\n",
       "      <td>967</td>\n",
       "      <td>14</td>\n",
       "      <td>500,000</td>\n",
       "      <td>Free</td>\n",
       "      <td>0.0</td>\n",
       "      <td>2018-01-15</td>\n",
       "      <td>2.0.0</td>\n",
       "    </tr>\n",
       "    <tr>\n",
       "      <th>2</th>\n",
       "      <td>Mcqueen Coloring pages</td>\n",
       "      <td>61</td>\n",
       "      <td>7.0</td>\n",
       "      <td>100,000</td>\n",
       "      <td>Free</td>\n",
       "      <td>0.0</td>\n",
       "      <td>2018-03-07</td>\n",
       "      <td>1.0.0</td>\n",
       "    </tr>\n",
       "    <tr>\n",
       "      <th>3</th>\n",
       "      <td>Textgram - write on photos</td>\n",
       "      <td>295221</td>\n",
       "      <td>Varies with device</td>\n",
       "      <td>10,000,000</td>\n",
       "      <td>Free</td>\n",
       "      <td>0.0</td>\n",
       "      <td>2018-07-30</td>\n",
       "      <td>Varies with device</td>\n",
       "    </tr>\n",
       "    <tr>\n",
       "      <th>4</th>\n",
       "      <td>Textgram - write on photos</td>\n",
       "      <td>295237</td>\n",
       "      <td>Varies with device</td>\n",
       "      <td>10,000,000</td>\n",
       "      <td>Free</td>\n",
       "      <td>0.0</td>\n",
       "      <td>2018-07-30</td>\n",
       "      <td>Varies with device</td>\n",
       "    </tr>\n",
       "  </tbody>\n",
       "</table>\n",
       "</div>"
      ],
      "text/plain": [
       "                                       App  Reviews                Size  \\\n",
       "0  Life Made WI-Fi Touchscreen Photo Frame       19                 3.0   \n",
       "1                      Coloring book moana      967                  14   \n",
       "2                   Mcqueen Coloring pages       61                 7.0   \n",
       "3               Textgram - write on photos   295221  Varies with device   \n",
       "4               Textgram - write on photos   295237  Varies with device   \n",
       "\n",
       "     Installs  Type  Price Last Updated         Current Ver  \n",
       "0       1,000  Free    0.0   2018-02-11              1.0.19  \n",
       "1     500,000  Free    0.0   2018-01-15               2.0.0  \n",
       "2     100,000  Free    0.0   2018-03-07               1.0.0  \n",
       "3  10,000,000  Free    0.0   2018-07-30  Varies with device  \n",
       "4  10,000,000  Free    0.0   2018-07-30  Varies with device  "
      ]
     },
     "execution_count": 11,
     "metadata": {},
     "output_type": "execute_result"
    }
   ],
   "source": [
    "df_new['Size'] = df_new['Size'].str.replace('M', '')\n",
    "df_new['Installs'] = df_new['Installs'].str.replace('+', '')\n",
    "df_new['Price'] = df_new['Price'].str.replace('$', '')\n",
    "df_new['Price']=df_new['Price'].astype(float)\n",
    "df_new.head()"
   ]
  },
  {
   "cell_type": "code",
   "execution_count": 12,
   "id": "42c63e9d",
   "metadata": {
    "scrolled": true,
    "tags": []
   },
   "outputs": [
    {
     "name": "stderr",
     "output_type": "stream",
     "text": [
      "C:\\Users\\karth\\AppData\\Local\\Temp\\ipykernel_29636\\1537892513.py:3: UserWarning: Boolean Series key will be reindexed to match DataFrame index.\n",
      "  df_new=df_new[(df[\"Current Ver\"]!=\"Varies with device\") & (df_new[\"Size\"]!=\"Varies with device\")]\n"
     ]
    },
    {
     "data": {
      "text/html": [
       "<div>\n",
       "<style scoped>\n",
       "    .dataframe tbody tr th:only-of-type {\n",
       "        vertical-align: middle;\n",
       "    }\n",
       "\n",
       "    .dataframe tbody tr th {\n",
       "        vertical-align: top;\n",
       "    }\n",
       "\n",
       "    .dataframe thead th {\n",
       "        text-align: right;\n",
       "    }\n",
       "</style>\n",
       "<table border=\"1\" class=\"dataframe\">\n",
       "  <thead>\n",
       "    <tr style=\"text-align: right;\">\n",
       "      <th></th>\n",
       "      <th>App</th>\n",
       "      <th>Reviews</th>\n",
       "      <th>Size</th>\n",
       "      <th>Installs</th>\n",
       "      <th>Type</th>\n",
       "      <th>Price</th>\n",
       "      <th>Last Updated</th>\n",
       "      <th>Current Ver</th>\n",
       "    </tr>\n",
       "  </thead>\n",
       "  <tbody>\n",
       "    <tr>\n",
       "      <th>0</th>\n",
       "      <td>Life Made WI-Fi Touchscreen Photo Frame</td>\n",
       "      <td>19</td>\n",
       "      <td>3.0</td>\n",
       "      <td>1,000</td>\n",
       "      <td>Free</td>\n",
       "      <td>0.0</td>\n",
       "      <td>2018-02-11</td>\n",
       "      <td>1.0.19</td>\n",
       "    </tr>\n",
       "    <tr>\n",
       "      <th>1</th>\n",
       "      <td>Coloring book moana</td>\n",
       "      <td>967</td>\n",
       "      <td>14</td>\n",
       "      <td>500,000</td>\n",
       "      <td>Free</td>\n",
       "      <td>0.0</td>\n",
       "      <td>2018-01-15</td>\n",
       "      <td>2.0.0</td>\n",
       "    </tr>\n",
       "    <tr>\n",
       "      <th>2</th>\n",
       "      <td>Mcqueen Coloring pages</td>\n",
       "      <td>61</td>\n",
       "      <td>7.0</td>\n",
       "      <td>100,000</td>\n",
       "      <td>Free</td>\n",
       "      <td>0.0</td>\n",
       "      <td>2018-03-07</td>\n",
       "      <td>1.0.0</td>\n",
       "    </tr>\n",
       "    <tr>\n",
       "      <th>5</th>\n",
       "      <td>UNICORN - Color By Number &amp; Pixel Art Coloring</td>\n",
       "      <td>8145</td>\n",
       "      <td>24</td>\n",
       "      <td>500,000</td>\n",
       "      <td>Free</td>\n",
       "      <td>0.0</td>\n",
       "      <td>2018-08-02</td>\n",
       "      <td>1.0.9</td>\n",
       "    </tr>\n",
       "    <tr>\n",
       "      <th>6</th>\n",
       "      <td>Photo Editor &amp; Candy Camera &amp; Grid &amp; ScrapBook</td>\n",
       "      <td>159</td>\n",
       "      <td>19</td>\n",
       "      <td>10,000</td>\n",
       "      <td>Free</td>\n",
       "      <td>0.0</td>\n",
       "      <td>2018-01-07</td>\n",
       "      <td>1.0.0</td>\n",
       "    </tr>\n",
       "  </tbody>\n",
       "</table>\n",
       "</div>"
      ],
      "text/plain": [
       "                                              App  Reviews Size Installs  \\\n",
       "0         Life Made WI-Fi Touchscreen Photo Frame       19  3.0    1,000   \n",
       "1                             Coloring book moana      967   14  500,000   \n",
       "2                          Mcqueen Coloring pages       61  7.0  100,000   \n",
       "5  UNICORN - Color By Number & Pixel Art Coloring     8145   24  500,000   \n",
       "6  Photo Editor & Candy Camera & Grid & ScrapBook      159   19   10,000   \n",
       "\n",
       "   Type  Price Last Updated Current Ver  \n",
       "0  Free    0.0   2018-02-11      1.0.19  \n",
       "1  Free    0.0   2018-01-15       2.0.0  \n",
       "2  Free    0.0   2018-03-07       1.0.0  \n",
       "5  Free    0.0   2018-08-02       1.0.9  \n",
       "6  Free    0.0   2018-01-07       1.0.0  "
      ]
     },
     "execution_count": 12,
     "metadata": {},
     "output_type": "execute_result"
    }
   ],
   "source": [
    "# Reset the index of the DataFrame\n",
    "df_new = df_new.reset_index(drop=True)\n",
    "df_new=df_new[(df[\"Current Ver\"]!=\"Varies with device\") & (df_new[\"Size\"]!=\"Varies with device\")] \n",
    "df_new.head()"
   ]
  },
  {
   "cell_type": "code",
   "execution_count": 13,
   "id": "4f03d3e4",
   "metadata": {
    "tags": []
   },
   "outputs": [
    {
     "name": "stdout",
     "output_type": "stream",
     "text": [
      "<class 'pandas.core.frame.DataFrame'>\n",
      "Index: 8153 entries, 0 to 10831\n",
      "Data columns (total 8 columns):\n",
      " #   Column        Non-Null Count  Dtype         \n",
      "---  ------        --------------  -----         \n",
      " 0   App           8153 non-null   object        \n",
      " 1   Reviews       8153 non-null   int32         \n",
      " 2   Size          8153 non-null   object        \n",
      " 3   Installs      8153 non-null   object        \n",
      " 4   Type          8153 non-null   object        \n",
      " 5   Price         8153 non-null   float64       \n",
      " 6   Last Updated  8153 non-null   datetime64[ns]\n",
      " 7   Current Ver   8150 non-null   object        \n",
      "dtypes: datetime64[ns](1), float64(1), int32(1), object(5)\n",
      "memory usage: 541.4+ KB\n"
     ]
    }
   ],
   "source": [
    "df_new.info()"
   ]
  },
  {
   "cell_type": "code",
   "execution_count": 14,
   "id": "1ac52636",
   "metadata": {
    "scrolled": true,
    "tags": []
   },
   "outputs": [
    {
     "name": "stdout",
     "output_type": "stream",
     "text": [
      "App 0\n",
      "Reviews 0\n",
      "Size 0\n",
      "Installs 0\n",
      "Type 0\n",
      "Price 0\n",
      "Last Updated 0\n",
      "Current Ver 3\n"
     ]
    }
   ],
   "source": [
    "null_check(df_new)"
   ]
  },
  {
   "cell_type": "code",
   "execution_count": 15,
   "id": "62112ece",
   "metadata": {
    "tags": []
   },
   "outputs": [],
   "source": [
    "df_new.to_csv(\"processed_googleplaystore.csv\", index=False)"
   ]
  },
  {
   "cell_type": "code",
   "execution_count": null,
   "id": "395f4f16-67f8-4b0a-9648-9ef8de69464f",
   "metadata": {},
   "outputs": [],
   "source": []
  }
 ],
 "metadata": {
  "kernelspec": {
   "display_name": "Python 3 (ipykernel)",
   "language": "python",
   "name": "python3"
  },
  "language_info": {
   "codemirror_mode": {
    "name": "ipython",
    "version": 3
   },
   "file_extension": ".py",
   "mimetype": "text/x-python",
   "name": "python",
   "nbconvert_exporter": "python",
   "pygments_lexer": "ipython3",
   "version": "3.10.12"
  }
 },
 "nbformat": 4,
 "nbformat_minor": 5
}
