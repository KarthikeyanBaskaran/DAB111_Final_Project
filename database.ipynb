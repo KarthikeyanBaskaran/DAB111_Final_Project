{
 "cells": [
  {
   "cell_type": "code",
   "execution_count": 4,
   "id": "79cef6e9",
   "metadata": {
    "tags": []
   },
   "outputs": [],
   "source": [
    "import sqlite3\n",
    "import pandas as pd"
   ]
  },
  {
   "cell_type": "code",
   "execution_count": 5,
   "id": "a0a7b522",
   "metadata": {
    "tags": []
   },
   "outputs": [],
   "source": [
    "df = pd.read_csv(\"processed_googleplaystore.csv\")"
   ]
  },
  {
   "cell_type": "code",
   "execution_count": 6,
   "id": "1ef630c5",
   "metadata": {
    "scrolled": true,
    "tags": []
   },
   "outputs": [],
   "source": [
    "con = sqlite3.connect(\"AppDB.db\")\n",
    "cursor = con.cursor()"
   ]
  },
  {
   "cell_type": "code",
   "execution_count": 6,
   "id": "0f32c3d4",
   "metadata": {},
   "outputs": [],
   "source": [
    "def dropping(a):\n",
    "    drop_table = f\"\"\"DROP TABLE {a}\"\"\"\n",
    "    cursor.execute(drop_table)\n",
    "    con.commit()\n",
    "    \n",
    "def display(a):\n",
    "    results = cursor.execute(\"SELECT * FROM a\").fetchall()\n",
    "    return results"
   ]
  },
  {
   "cell_type": "code",
   "execution_count": 7,
   "id": "c21347b8",
   "metadata": {
    "tags": []
   },
   "outputs": [
    {
     "data": {
      "text/plain": [
       "5"
      ]
     },
     "execution_count": 7,
     "metadata": {},
     "output_type": "execute_result"
    }
   ],
   "source": [
    "df.head().to_sql('Apps',con, index=False)"
   ]
  },
  {
   "cell_type": "code",
   "execution_count": 8,
   "id": "c749ffb8",
   "metadata": {
    "tags": []
   },
   "outputs": [
    {
     "data": {
      "text/plain": [
       "[('Life Made WI-Fi Touchscreen Photo Frame',\n",
       "  19,\n",
       "  '3.0',\n",
       "  '1,000',\n",
       "  'Free',\n",
       "  0.0,\n",
       "  '2018-02-11',\n",
       "  '1.0.19'),\n",
       " ('Coloring book moana',\n",
       "  967,\n",
       "  '14',\n",
       "  '500,000',\n",
       "  'Free',\n",
       "  0.0,\n",
       "  '2018-01-15',\n",
       "  '2.0.0'),\n",
       " ('Mcqueen Coloring pages',\n",
       "  61,\n",
       "  '7.0',\n",
       "  '100,000',\n",
       "  'Free',\n",
       "  0.0,\n",
       "  '2018-03-07',\n",
       "  '1.0.0'),\n",
       " ('UNICORN - Color By Number & Pixel Art Coloring',\n",
       "  8145,\n",
       "  '24',\n",
       "  '500,000',\n",
       "  'Free',\n",
       "  0.0,\n",
       "  '2018-08-02',\n",
       "  '1.0.9'),\n",
       " ('Photo Editor & Candy Camera & Grid & ScrapBook',\n",
       "  159,\n",
       "  '19',\n",
       "  '10,000',\n",
       "  'Free',\n",
       "  0.0,\n",
       "  '2018-01-07',\n",
       "  '1.0.0')]"
      ]
     },
     "execution_count": 8,
     "metadata": {},
     "output_type": "execute_result"
    }
   ],
   "source": [
    "results = cursor.execute(\"SELECT * FROM Apps\").fetchall()\n",
    "results"
   ]
  },
  {
   "cell_type": "code",
   "execution_count": 9,
   "id": "7d8d57e9",
   "metadata": {
    "tags": []
   },
   "outputs": [],
   "source": [
    "con.commit()\n",
    "con.close()"
   ]
  },
  {
   "cell_type": "code",
   "execution_count": null,
   "id": "e8d2c402-395d-430d-ba79-123a162bfdb1",
   "metadata": {},
   "outputs": [],
   "source": []
  }
 ],
 "metadata": {
  "kernelspec": {
   "display_name": "Python 3 (ipykernel)",
   "language": "python",
   "name": "python3"
  },
  "language_info": {
   "codemirror_mode": {
    "name": "ipython",
    "version": 3
   },
   "file_extension": ".py",
   "mimetype": "text/x-python",
   "name": "python",
   "nbconvert_exporter": "python",
   "pygments_lexer": "ipython3",
   "version": "3.10.12"
  }
 },
 "nbformat": 4,
 "nbformat_minor": 5
}
